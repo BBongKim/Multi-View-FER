{
 "cells": [
  {
   "cell_type": "code",
   "execution_count": 1,
   "id": "e2997a3b-b27f-46bf-9a24-d224b84dc753",
   "metadata": {},
   "outputs": [],
   "source": [
    "import Augmentor"
   ]
  },
  {
   "cell_type": "code",
   "execution_count": 2,
   "id": "93ffc639-a766-4717-bcba-a6d2236af337",
   "metadata": {},
   "outputs": [
    {
     "name": "stdout",
     "output_type": "stream",
     "text": [
      "Initialised with 500 image(s) found.\n",
      "Output directory set to /Users/bbongkim/Documents/개별연구 자료/실험/KDEF_All/Train/afraid/output."
     ]
    }
   ],
   "source": [
    "img = Augmentor.Pipeline(\"/Users/bbongkim/Documents/개별연구 자료/실험/KDEF_All/Train/afraid\")"
   ]
  },
  {
   "cell_type": "code",
   "execution_count": 3,
   "id": "8a7d0499-958f-47aa-9c37-4487534fe9af",
   "metadata": {},
   "outputs": [],
   "source": [
    "# 좌우 반전\n",
    "img.flip_left_right(probability=0.5)\n",
    "\n",
    "#모퉁이 왜곡\n",
    "img.skew_corner(probability=0.5)\n",
    "\n",
    "#회전&크롭\n",
    "img.rotate_without_crop(probability=0.5, max_left_rotation=0.3, max_right_rotation=0.3, expand=False, fillcolor=None)\n",
    "\n",
    "#확대\n",
    "img.zoom_random(probability=0.5, percentage_area=0.8)\n",
    "\n",
    "#크롭\n",
    "img.crop_random(probability=0.5, percentage_area=0.8, randomise_percentage_area=False)"
   ]
  },
  {
   "cell_type": "code",
   "execution_count": 4,
   "id": "5eaa32af-4204-4963-94fd-58376b609769",
   "metadata": {},
   "outputs": [
    {
     "name": "stderr",
     "output_type": "stream",
     "text": [
      "Processing <PIL.Image.Image image mode=RGB size=449x609 at 0x107D0D2D0>: 100%|█|\n"
     ]
    }
   ],
   "source": [
    "img.sample(10)"
   ]
  },
  {
   "cell_type": "code",
   "execution_count": null,
   "id": "e3d02c97-9e39-44f6-a07b-73e4faf73f20",
   "metadata": {},
   "outputs": [],
   "source": []
  }
 ],
 "metadata": {
  "kernelspec": {
   "display_name": "Python 3 (ipykernel)",
   "language": "python",
   "name": "python3"
  },
  "language_info": {
   "codemirror_mode": {
    "name": "ipython",
    "version": 3
   },
   "file_extension": ".py",
   "mimetype": "text/x-python",
   "name": "python",
   "nbconvert_exporter": "python",
   "pygments_lexer": "ipython3",
   "version": "3.10.9"
  }
 },
 "nbformat": 4,
 "nbformat_minor": 5
}
