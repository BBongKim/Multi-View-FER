{
 "cells": [
  {
   "cell_type": "code",
   "execution_count": 38,
   "id": "11a60844-c22a-4756-a2f5-ceda35e2b8d2",
   "metadata": {},
   "outputs": [],
   "source": [
    "import os\n",
    "import shutil"
   ]
  },
  {
   "cell_type": "code",
   "execution_count": 39,
   "id": "e6fe13a1-ff72-46f0-a912-2d41c9802ed9",
   "metadata": {},
   "outputs": [
    {
     "name": "stdout",
     "output_type": "stream",
     "text": [
      "/Users/bbongkim/Desktop/개별연구 자료/KDEF_Angle/Train\n"
     ]
    }
   ],
   "source": [
    "currentDir = os.getcwd()\n",
    "listdir = os.listdir(os.getcwd())\n",
    "print(currentDir)"
   ]
  },
  {
   "cell_type": "code",
   "execution_count": 40,
   "id": "8c31721c-3e9b-4284-9ef4-bb54f3d96c0b",
   "metadata": {},
   "outputs": [],
   "source": [
    "listdir.remove('auto-classifier.ipynb')\n",
    "listdir.remove('.ipynb_checkpoints')\n",
    "listdir.remove('.DS_Store')"
   ]
  },
  {
   "cell_type": "code",
   "execution_count": 41,
   "id": "38d043c7-1510-4633-9780-12970957ab4e",
   "metadata": {},
   "outputs": [
    {
     "name": "stdout",
     "output_type": "stream",
     "text": [
      "['BM20', 'AM07', 'BM18', 'BM27', 'AM09', 'BM11', 'BM29', 'BM16', 'AM31', 'BM28', 'AM30', 'BM17', 'AM08', 'BM19', 'BM26', 'AM01', 'AM06', 'BM21', 'AF27', 'AF18', 'AF20', 'BF07', 'AF16', 'BF31', 'AF29', 'AF11', 'BF09', 'BF08', 'BF30', 'AF17', 'AF28', 'BF06', 'AF21', 'AF26', 'BF01', 'AF19', 'BF23', 'BF24', 'BF12', 'AF35', 'AF32', 'BF15', 'BF14', 'AF33', 'AF34', 'BF13', 'BF25', 'BF22', 'AM24', 'AM23', 'BM32', 'AM15', 'AM12', 'BM35', 'BM34', 'AM13', 'AM14', 'BM33', 'AM22', 'AM25', 'AM03', 'BM24', 'BM23', 'AM04', 'BM15', 'AM32', 'AM35', 'BM12', 'BM13', 'AM34', 'AM33', 'BM14', 'AM05', 'BM22', 'BM25', 'AM02', 'AF23', 'BF04', 'BF03', 'AF24', 'BF35', 'AF12', 'AF15', 'BF32', 'BF33', 'AF14', 'AF13', 'BF34', 'AF25', 'BF02', 'BF05', 'AF22', 'BF18', 'BF27', 'BF20', 'BF29', 'AF31', 'BF16', 'BF11', 'BF10', 'BF28', 'BF17', 'AF30', 'BF21', 'BF19', 'BF26', 'AM20', 'AM27', 'AM18', 'AM11', 'BM31', 'AM16', 'AM29', 'AM17', 'BM30', 'AM28', 'AM10', 'AM26', 'AM19', 'AM21']\n"
     ]
    }
   ],
   "source": [
    "print(listdir)"
   ]
  },
  {
   "cell_type": "code",
   "execution_count": 42,
   "id": "936fa45f-244c-4608-b2b4-69387f206574",
   "metadata": {},
   "outputs": [],
   "source": [
    "def createFolder(directory):\n",
    "    print(directory)\n",
    "    try:\n",
    "        if not os.path.exists(directory):\n",
    "            os.makedirs(directory)\n",
    "    except OSError:\n",
    "        print('Error: Creating directory. ' + directory)"
   ]
  },
  {
   "cell_type": "code",
   "execution_count": 43,
   "id": "296dbbff-5a58-40ff-b8b7-f76f7b62b569",
   "metadata": {},
   "outputs": [],
   "source": [
    "def classifyAngle(fileDir, emotionDir, angle):\n",
    "    if angle == \"S\":\n",
    "        straightDir = emotionDir + \"/straight\"\n",
    "        createFolder(straightDir)\n",
    "        shutil.move(fileDir, straightDir)\n",
    "\n",
    "    if angle == \"FL\":\n",
    "        fullLeftDir = emotionDir + \"/fullLeft\"\n",
    "        createFolder(fullLeftDir)\n",
    "        shutil.move(fileDir, fullLeftDir)\n",
    "\n",
    "    if angle == \"HL\":\n",
    "        haflLeftDir = emotionDir + \"/haflLeft\"\n",
    "        createFolder(haflLeftDir)\n",
    "        shutil.move(fileDir, haflLeftDir)\n",
    "\n",
    "    if angle == \"HR\":\n",
    "        halfRightDir = emotionDir + \"/halfRight\"\n",
    "        createFolder(halfRightDir)\n",
    "        shutil.move(fileDir, halfRightDir)\n",
    "\n",
    "    if angle == \"FR\":\n",
    "        fullRightDir = emotionDir + \"/fullRight\"\n",
    "        createFolder(fullRightDir)\n",
    "        shutil.move(fileDir, fullRightDir)"
   ]
  },
  {
   "cell_type": "code",
   "execution_count": 44,
   "id": "7ba12cb1-c7c1-45e5-952e-93d0f8e81766",
   "metadata": {
    "tags": []
   },
   "outputs": [],
   "source": [
    "def classifyFile(fileDir, _fileName):\n",
    "    print(fileDir)\n",
    "    fileName = _fileName[:len(_fileName) - 4]\n",
    "    print(fileName)\n",
    "    emotion = \"\"\n",
    "    angle = \"\"\n",
    "    \n",
    "    if len(fileName) == 7:\n",
    "        emotion = fileName[4:6]\n",
    "        angle = fileName[6:7]\n",
    "    elif len(fileName) == 8:\n",
    "        emotion = fileName[4:6]\n",
    "        angle = fileName[6:8]\n",
    "        \n",
    "    print(\"emotion : \" + emotion + \", angle : \" + angle) \n",
    "\n",
    "    if emotion == \"AF\":\n",
    "        afraidDir = currentDir + \"/afraid\"\n",
    "        createFolder(afraidDir)\n",
    "        classifyAngle(fileDir, afraidDir, angle)\n",
    "        \n",
    "    elif emotion == \"AN\":\n",
    "        angryDir = currentDir + \"/angry\"\n",
    "        createFolder(angryDir)\n",
    "        classifyAngle(fileDir, angryDir, angle)\n",
    "\n",
    "    elif emotion == \"DI\":\n",
    "        disgustedDir = currentDir + \"/disgusted\"\n",
    "        createFolder(disgustedDir)\n",
    "        classifyAngle(fileDir, disgustedDir, angle)\n",
    "\n",
    "    elif emotion == \"HA\":\n",
    "        happyDir = currentDir + \"/happy\"\n",
    "        createFolder(happyDir)\n",
    "        classifyAngle(fileDir, happyDir, angle)\n",
    "\n",
    "    elif emotion == \"NE\":\n",
    "        neutralDir = currentDir + \"/neutral\"\n",
    "        createFolder(neutralDir)\n",
    "        classifyAngle(fileDir, neutralDir, angle)\n",
    "\n",
    "    elif emotion == \"SA\":\n",
    "        sadDir = currentDir + \"/sad\"\n",
    "        createFolder(sadDir)\n",
    "        classifyAngle(fileDir, sadDir, angle)\n",
    "\n",
    "    elif emotion == \"SU\":\n",
    "        surprisedDir = currentDir + \"/surprised\"\n",
    "        createFolder(surprisedDir)\n",
    "        classifyAngle(fileDir, surprisedDir, angle)"
   ]
  },
  {
   "cell_type": "code",
   "execution_count": 47,
   "id": "18257f85-ccac-4606-a81a-b068d91b3908",
   "metadata": {
    "tags": []
   },
   "outputs": [
    {
     "name": "stdout",
     "output_type": "stream",
     "text": [
      "/Users/bbongkim/Desktop/개별연구 자료/KDEF_Angle/Train/AM31/AM31SUHR.JPG\n",
      "AM31SUHR\n",
      "emotion : SU, angle : HR\n",
      "/Users/bbongkim/Desktop/개별연구 자료/KDEF_Angle/Train/surprised\n",
      "/Users/bbongkim/Desktop/개별연구 자료/KDEF_Angle/Train/surprised/halfRight\n"
     ]
    }
   ],
   "source": [
    "for folderName in listdir:\n",
    "    imagefolderDir = currentDir + \"/\" + folderName\n",
    "    files = os.listdir(imagefolderDir)\n",
    "    for fileName in files:\n",
    "        classifyFile(imagefolderDir + \"/\" + fileName, fileName)"
   ]
  },
  {
   "cell_type": "code",
   "execution_count": null,
   "id": "861880d4-76fd-4fef-a810-91002e1365b8",
   "metadata": {},
   "outputs": [],
   "source": []
  }
 ],
 "metadata": {
  "kernelspec": {
   "display_name": "Python 3 (ipykernel)",
   "language": "python",
   "name": "python3"
  },
  "language_info": {
   "codemirror_mode": {
    "name": "ipython",
    "version": 3
   },
   "file_extension": ".py",
   "mimetype": "text/x-python",
   "name": "python",
   "nbconvert_exporter": "python",
   "pygments_lexer": "ipython3",
   "version": "3.10.9"
  }
 },
 "nbformat": 4,
 "nbformat_minor": 5
}
